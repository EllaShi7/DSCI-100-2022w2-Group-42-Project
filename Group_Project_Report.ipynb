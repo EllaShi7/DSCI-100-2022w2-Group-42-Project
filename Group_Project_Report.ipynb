{
 "cells": [
  {
   "cell_type": "markdown",
   "id": "445dd059-066f-48ef-878a-3120bd6267c6",
   "metadata": {},
   "source": [
    "## Prediction of Tennis Match Results using K-Nearest Neighbours Classification Model"
   ]
  },
  {
   "cell_type": "markdown",
   "id": "b7168142-0828-494b-abf0-86ff85ca3363",
   "metadata": {},
   "source": [
    "## Introduction"
   ]
  },
  {
   "cell_type": "code",
   "execution_count": null,
   "id": "121084c9-ce90-458d-985d-b2a5fe6b0da8",
   "metadata": {},
   "outputs": [],
   "source": []
  },
  {
   "cell_type": "markdown",
   "id": "4f2d6393-6b20-4b9d-81f4-a8344b4913c9",
   "metadata": {},
   "source": [
    "## Methods & Results"
   ]
  },
  {
   "cell_type": "code",
   "execution_count": null,
   "id": "6c127712-9643-44ed-a3f4-4c89f6c72319",
   "metadata": {},
   "outputs": [],
   "source": []
  },
  {
   "cell_type": "code",
   "execution_count": null,
   "id": "a7483afa-d2be-4c84-8587-e8938ae06f9e",
   "metadata": {},
   "outputs": [],
   "source": []
  },
  {
   "cell_type": "markdown",
   "id": "d7bb3f19-b311-40a0-8730-23cc2f312a11",
   "metadata": {},
   "source": [
    "## Discussion"
   ]
  },
  {
   "cell_type": "code",
   "execution_count": null,
   "id": "be91156b-8512-4429-841f-bcce4189fb4c",
   "metadata": {},
   "outputs": [],
   "source": []
  },
  {
   "cell_type": "markdown",
   "id": "b09f176c-5d3b-49d9-9ef4-ea9ff2f074bf",
   "metadata": {},
   "source": [
    "## References"
   ]
  },
  {
   "cell_type": "code",
   "execution_count": null,
   "id": "77185d67-9c94-4be4-b4e9-12e5d62a3ce4",
   "metadata": {},
   "outputs": [],
   "source": []
  }
 ],
 "metadata": {
  "kernelspec": {
   "display_name": "R",
   "language": "R",
   "name": "ir"
  },
  "language_info": {
   "codemirror_mode": "r",
   "file_extension": ".r",
   "mimetype": "text/x-r-source",
   "name": "R",
   "pygments_lexer": "r",
   "version": "4.1.3"
  }
 },
 "nbformat": 4,
 "nbformat_minor": 5
}
